{
 "cells": [
  {
   "cell_type": "code",
   "execution_count": 6,
   "metadata": {},
   "outputs": [],
   "source": [
    "import pandas as pd\n",
    "\n",
    "# Load the CSV file with potential special characters\n",
    "csv_file_path = \"E:/Orbital/plateful_palette/ingredients.csv\"  # Replace with the actual path to your CSV file\n",
    "df = pd.read_csv(csv_file_path, encoding='ISO-8859-1')\n"
   ]
  },
  {
   "cell_type": "code",
   "execution_count": 9,
   "metadata": {},
   "outputs": [
    {
     "data": {
      "text/plain": [
       "0                                 Milk, human\n",
       "1                                   Milk, NFS\n",
       "2                                   Milk, NFS\n",
       "3                                   Milk, NFS\n",
       "4                                   Milk, NFS\n",
       "                         ...                 \n",
       "19303       Sauce as ingredient in hamburgers\n",
       "19304    Industrial oil as ingredient in food\n",
       "19305    Industrial oil as ingredient in food\n",
       "19306    Industrial oil as ingredient in food\n",
       "19307    Industrial oil as ingredient in food\n",
       "Name: Main food description, Length: 19308, dtype: object"
      ]
     },
     "execution_count": 9,
     "metadata": {},
     "output_type": "execute_result"
    }
   ],
   "source": [
    "df[\"Main food description\"]"
   ]
  },
  {
   "cell_type": "code",
   "execution_count": 10,
   "metadata": {},
   "outputs": [],
   "source": [
    "df = df[~df.apply(lambda row: row.astype(str).str.contains('NFS').any(), axis=1)]\n"
   ]
  },
  {
   "cell_type": "code",
   "execution_count": 11,
   "metadata": {},
   "outputs": [
    {
     "name": "stdout",
     "output_type": "stream",
     "text": [
      "<class 'pandas.core.frame.DataFrame'>\n",
      "Int64Index: 17256 entries, 0 to 19307\n",
      "Data columns (total 10 columns):\n",
      " #   Column                      Non-Null Count  Dtype  \n",
      "---  ------                      --------------  -----  \n",
      " 0   Food code                   17256 non-null  int64  \n",
      " 1   Main food description       17256 non-null  object \n",
      " 2   WWEIA Category number       17256 non-null  int64  \n",
      " 3   WWEIA Category description  17256 non-null  object \n",
      " 4   Seq num                     17256 non-null  int64  \n",
      " 5   Ingredient code             17256 non-null  int64  \n",
      " 6   Ingredient description      17256 non-null  object \n",
      " 7   Ingredient weight (g)       17256 non-null  float64\n",
      " 8   Retention code              17256 non-null  int64  \n",
      " 9   Moisture change (%)         17256 non-null  float64\n",
      "dtypes: float64(2), int64(5), object(3)\n",
      "memory usage: 1.4+ MB\n"
     ]
    }
   ],
   "source": [
    "df.info()"
   ]
  },
  {
   "cell_type": "code",
   "execution_count": 12,
   "metadata": {},
   "outputs": [],
   "source": [
    "df = df[~df.apply(lambda row: row.astype(str).str.contains('NS').any(), axis=1)]\n"
   ]
  },
  {
   "cell_type": "code",
   "execution_count": 13,
   "metadata": {},
   "outputs": [
    {
     "name": "stdout",
     "output_type": "stream",
     "text": [
      "<class 'pandas.core.frame.DataFrame'>\n",
      "Int64Index: 16353 entries, 0 to 19307\n",
      "Data columns (total 10 columns):\n",
      " #   Column                      Non-Null Count  Dtype  \n",
      "---  ------                      --------------  -----  \n",
      " 0   Food code                   16353 non-null  int64  \n",
      " 1   Main food description       16353 non-null  object \n",
      " 2   WWEIA Category number       16353 non-null  int64  \n",
      " 3   WWEIA Category description  16353 non-null  object \n",
      " 4   Seq num                     16353 non-null  int64  \n",
      " 5   Ingredient code             16353 non-null  int64  \n",
      " 6   Ingredient description      16353 non-null  object \n",
      " 7   Ingredient weight (g)       16353 non-null  float64\n",
      " 8   Retention code              16353 non-null  int64  \n",
      " 9   Moisture change (%)         16353 non-null  float64\n",
      "dtypes: float64(2), int64(5), object(3)\n",
      "memory usage: 1.4+ MB\n"
     ]
    }
   ],
   "source": [
    "df.info()"
   ]
  },
  {
   "cell_type": "code",
   "execution_count": 14,
   "metadata": {},
   "outputs": [],
   "source": [
    "df.to_csv('cleaned_data.csv', index=False)"
   ]
  }
 ],
 "metadata": {
  "kernelspec": {
   "display_name": "Python 3",
   "language": "python",
   "name": "python3"
  },
  "language_info": {
   "codemirror_mode": {
    "name": "ipython",
    "version": 3
   },
   "file_extension": ".py",
   "mimetype": "text/x-python",
   "name": "python",
   "nbconvert_exporter": "python",
   "pygments_lexer": "ipython3",
   "version": "3.9.5"
  }
 },
 "nbformat": 4,
 "nbformat_minor": 2
}
