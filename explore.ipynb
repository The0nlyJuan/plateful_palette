{
 "cells": [
  {
   "cell_type": "code",
   "execution_count": 10,
   "metadata": {},
   "outputs": [
    {
     "name": "stdout",
     "output_type": "stream",
     "text": [
      "Cleaned CSV file saved to D:/Orbital/plateful_palette/cleaned_foods.csv\n"
     ]
    }
   ],
   "source": [
    "import pandas as pd\n",
    "\n",
    "# Load the CSV file with potential special characters\n",
    "csv_file_path = \"D:/Orbital/plateful_palette/foods.csv\"  # Replace with the actual path to your CSV file\n",
    "df = pd.read_csv(csv_file_path, encoding='ISO-8859-1')\n",
    "\n",
    "# Replace problematic characters\n",
    "df.replace({'�': \"'\", '�': \"'\"}, regex=True, inplace=True)\n",
    "\n",
    "# Save the cleaned CSV file\n",
    "cleaned_csv_file_path = \"D:/Orbital/plateful_palette/cleaned_foods.csv\"  # Replace with the desired output path\n",
    "df.to_csv(cleaned_csv_file_path, index=False)\n",
    "\n",
    "print(f\"Cleaned CSV file saved to {cleaned_csv_file_path}\")\n"
   ]
  },
  {
   "cell_type": "code",
   "execution_count": 9,
   "metadata": {},
   "outputs": [
    {
     "data": {
      "text/plain": [
       "1001      1\n",
       "1022      1\n",
       "1005      1\n",
       "1006      1\n",
       "1007      1\n",
       "         ..\n",
       "999303    1\n",
       "999328    1\n",
       "999401    1\n",
       "100251    1\n",
       "999431    1\n",
       "Name: ingredient_code, Length: 1882, dtype: int64"
      ]
     },
     "execution_count": 9,
     "metadata": {},
     "output_type": "execute_result"
    }
   ],
   "source": [
    "df[\"ingredient_code\"].value_counts().sort_values(ascending=False)"
   ]
  }
 ],
 "metadata": {
  "kernelspec": {
   "display_name": "Python 3",
   "language": "python",
   "name": "python3"
  },
  "language_info": {
   "codemirror_mode": {
    "name": "ipython",
    "version": 3
   },
   "file_extension": ".py",
   "mimetype": "text/x-python",
   "name": "python",
   "nbconvert_exporter": "python",
   "pygments_lexer": "ipython3",
   "version": "3.9.5"
  }
 },
 "nbformat": 4,
 "nbformat_minor": 2
}
